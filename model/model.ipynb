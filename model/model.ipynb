{
 "cells": [
  {
   "cell_type": "code",
   "execution_count": 44,
   "metadata": {},
   "outputs": [],
   "source": [
    "import numpy as np \n",
    "import pandas as pd\n",
    "import matplotlib.pyplot as plt\n",
    "from sklearn.model_selection import train_test_split, RandomizedSearchCV\n",
    "from sklearn.preprocessing import LabelEncoder\n",
    "from sklearn.preprocessing import StandardScaler\n",
    "from sklearn.tree import DecisionTreeClassifier\n",
    "import requests\n",
    "import folium\n",
    "from folium import plugins\n",
    "import pickle\n",
    "from sklearn.metrics import confusion_matrix, classification_report, precision_recall_fscore_support,roc_curve, auc, accuracy_score\n"
   ]
  },
  {
   "cell_type": "code",
   "execution_count": 2,
   "metadata": {},
   "outputs": [
    {
     "data": {
      "text/plain": [
       "array([20, 11,  3,  9, 18, 13, 14,  2, 10, 19,  1, 12,  7, 21, 15,  0, 16,\n",
       "       17,  4,  6,  8,  5])"
      ]
     },
     "execution_count": 2,
     "metadata": {},
     "output_type": "execute_result"
    }
   ],
   "source": [
    "df = pd.read_csv('Crop_Recommendation.csv')\n",
    "label_encoder = LabelEncoder()\n",
    "\n",
    "df['Crop'] = label_encoder.fit_transform(df['Crop'])\n",
    "df['Crop'].unique()\n"
   ]
  },
  {
   "cell_type": "code",
   "execution_count": 32,
   "metadata": {},
   "outputs": [
    {
     "data": {
      "text/plain": [
       "array([[ 1.34934948, -1.0960582 , -0.02225388,  0.7692403 ,  1.05232434,\n",
       "        -0.37619899, -1.38984486]])"
      ]
     },
     "execution_count": 32,
     "metadata": {},
     "output_type": "execute_result"
    }
   ],
   "source": [
    "features = np.array([ 1.34934948, -1.0960582, -0.02225388, 0.7692403, 1.05232434, -0.37619899, -1.38984486]).reshape(1, -1)\n",
    "features"
   ]
  },
  {
   "cell_type": "code",
   "execution_count": 5,
   "metadata": {},
   "outputs": [
    {
     "name": "stdout",
     "output_type": "stream",
     "text": [
      "{0: 'Apple', 1: 'Banana', 2: 'Blackgram', 3: 'ChickPea', 4: 'Coconut', 5: 'Coffee', 6: 'Cotton', 7: 'Grapes', 8: 'Jute', 9: 'KidneyBeans', 10: 'Lentil', 11: 'Maize', 12: 'Mango', 13: 'MothBeans', 14: 'MungBean', 15: 'Muskmelon', 16: 'Orange', 17: 'Papaya', 18: 'PigeonPeas', 19: 'Pomegranate', 20: 'Rice', 21: 'Watermelon'}\n"
     ]
    }
   ],
   "source": [
    "crop_mapping = dict(zip(range(len(label_encoder.classes_)), label_encoder.classes_))\n",
    "print(crop_mapping) \n"
   ]
  },
  {
   "cell_type": "code",
   "execution_count": null,
   "metadata": {},
   "outputs": [
    {
     "data": {
      "text/plain": [
       "0       20\n",
       "1       20\n",
       "2       20\n",
       "3       20\n",
       "4       20\n",
       "        ..\n",
       "2195     5\n",
       "2196     5\n",
       "2197     5\n",
       "2198     5\n",
       "2199     5\n",
       "Name: Crop, Length: 2200, dtype: int64"
      ]
     },
     "execution_count": 6,
     "metadata": {},
     "output_type": "execute_result"
    }
   ],
   "source": [
    "df['Crop'].to_lis"
   ]
  },
  {
   "cell_type": "code",
   "execution_count": 7,
   "metadata": {},
   "outputs": [
    {
     "name": "stdout",
     "output_type": "stream",
     "text": [
      "(1760, 7)\n",
      "(1760,)\n"
     ]
    }
   ],
   "source": [
    "X_train, X_test, y_train, y_test = train_test_split(df.drop(['Crop'], axis = 1), df['Crop'], test_size = 0.2, random_state = 42)\n",
    "print(X_train.shape)\n",
    "print(y_train.shape)"
   ]
  },
  {
   "cell_type": "code",
   "execution_count": 8,
   "metadata": {},
   "outputs": [],
   "source": [
    "std_scaler = StandardScaler()\n",
    "\n",
    "X_train_scaled = std_scaler.fit_transform(X_train)\n",
    "X_test_scaled = std_scaler.transform(X_test)"
   ]
  },
  {
   "cell_type": "code",
   "execution_count": 9,
   "metadata": {},
   "outputs": [
    {
     "name": "stdout",
     "output_type": "stream",
     "text": [
      "Best Parameters: {'min_samples_leaf': 1, 'max_depth': 10, 'criterion': 'gini'}\n",
      "Best Score: 0.9863636363636363\n"
     ]
    }
   ],
   "source": [
    "dt = DecisionTreeClassifier(random_state = 42)\n",
    "\n",
    "params_dist = {\n",
    "    'criterion' : ['gini', 'entropy'],\n",
    "    'max_depth' : [2 * n for n in range(1,21)],\n",
    "    'min_samples_leaf' : [n for n in range(1,11)]\n",
    "}\n",
    "\n",
    "random_search = RandomizedSearchCV(estimator = dt, param_distributions = params_dist,\n",
    "                                  cv=5, n_jobs = -1, n_iter = 10, scoring = 'accuracy')\n",
    "random_search.fit(X_train_scaled, y_train.values.ravel())\n",
    "\n",
    "print(f\"Best Parameters: {random_search.best_params_}\")\n",
    "print(f\"Best Score: {random_search.best_score_}\")"
   ]
  },
  {
   "cell_type": "code",
   "execution_count": 35,
   "metadata": {},
   "outputs": [],
   "source": [
    "model = random_search.best_estimator_"
   ]
  },
  {
   "cell_type": "code",
   "execution_count": 30,
   "metadata": {},
   "outputs": [
    {
     "name": "stdout",
     "output_type": "stream",
     "text": [
      "[ 1.34934948 -1.0960582  -0.02225388  0.7692403   1.05232434 -0.37619899\n",
      " -1.38984486]\n"
     ]
    }
   ],
   "source": [
    "feature_order = ['Nitrogen', 'Phosphorus', 'Potassium', 'Temperature', 'Humidity', 'pH_Value', 'Rainfall']\n",
    "print(X_test_scaled[0])"
   ]
  },
  {
   "cell_type": "code",
   "execution_count": 38,
   "metadata": {},
   "outputs": [],
   "source": [
    "avg_features =  [ 1.34934948, -1.0960582, -0.02225388, 0.7692403, 1.05232434, -0.37619899, -1.38984486]"
   ]
  },
  {
   "cell_type": "code",
   "execution_count": 42,
   "metadata": {},
   "outputs": [
    {
     "data": {
      "text/plain": [
       "array([[-1.32315768, -1.6408129 , -0.94311023, -4.87566051, -3.2023103 ,\n",
       "        -8.86176188, -1.89402903]])"
      ]
     },
     "execution_count": 42,
     "metadata": {},
     "output_type": "execute_result"
    }
   ],
   "source": [
    "std_scaler.transform(pd.DataFrame([\n",
    "            {\n",
    "                'Nitrogen' : avg_features[0],\n",
    "                'Phosphorus' : avg_features[1],\n",
    "                'Potassium' : avg_features[2],\n",
    "                'Temperature' : avg_features[3],\n",
    "                'Humidity' : avg_features[4],\n",
    "                'pH_Value' : avg_features[5],\n",
    "                'Rainfall' : avg_features[6],\n",
    "            }\n",
    "]))"
   ]
  },
  {
   "cell_type": "code",
   "execution_count": 37,
   "metadata": {},
   "outputs": [
    {
     "data": {
      "text/plain": [
       "array([15])"
      ]
     },
     "execution_count": 37,
     "metadata": {},
     "output_type": "execute_result"
    }
   ],
   "source": [
    "model.predict(features)\n"
   ]
  },
  {
   "cell_type": "code",
   "execution_count": null,
   "metadata": {},
   "outputs": [
    {
     "data": {
      "text/html": [
       "\n",
       "            <style>\n",
       "                .geemap-dark {\n",
       "                    --jp-widgets-color: white;\n",
       "                    --jp-widgets-label-color: white;\n",
       "                    --jp-ui-font-color1: white;\n",
       "                    --jp-layout-color2: #454545;\n",
       "                    background-color: #383838;\n",
       "                }\n",
       "\n",
       "                .geemap-dark .jupyter-button {\n",
       "                    --jp-layout-color3: #383838;\n",
       "                }\n",
       "\n",
       "                .geemap-colab {\n",
       "                    background-color: var(--colab-primary-surface-color, white);\n",
       "                }\n",
       "\n",
       "                .geemap-colab .jupyter-button {\n",
       "                    --jp-layout-color3: var(--colab-primary-surface-color, white);\n",
       "                }\n",
       "            </style>\n",
       "            "
      ],
      "text/plain": [
       "<IPython.core.display.HTML object>"
      ]
     },
     "metadata": {},
     "output_type": "display_data"
    }
   ],
   "source": [
    "with open(\"model.pkl\", \"wb\") as f:\n",
    "    pickle.dump(model, f)\n",
    "    "
   ]
  },
  {
   "cell_type": "code",
   "execution_count": null,
   "metadata": {},
   "outputs": [],
   "source": [
    "def model_evaluation(yt, yp):\n",
    "    results = {}\n",
    "    results['accuracy'] = accuracy_score(yt, yp)\n",
    "    \n",
    "    precision, recall, fscore, _ = precision_recall_fscore_support(yt, yp, average = 'weighted')\n",
    "    results['precision'] = precision\n",
    "    results['recall'] = recall\n",
    "    results['fscore'] = fscore\n",
    "    \n",
    "    metrics = list(results.keys())\n",
    "    values = list(results.values())\n",
    "    \n",
    "    ax = sns.barplot(x = metrics, y = values, palette = 'viridis')\n",
    "    plt.title('Model Evaluation Metrics')\n",
    "    plt.ylim(0,1)\n",
    "    plt.ylabel('Value')\n",
    "    \n",
    "    for i, v in enumerate(values):\n",
    "        plt.text(i, v/2, f'{v: 0.2f}', ha = 'center', va = 'center', color = 'white',\n",
    "                fontsize = 12)\n",
    "    plt.show()"
   ]
  },
  {
   "cell_type": "code",
   "execution_count": 36,
   "metadata": {},
   "outputs": [],
   "source": [
    "with open(\"crop_recommendation_model.pkl\", \"rb\") as f:\n",
    "    model = pickle.load(f)\n",
    "    "
   ]
  },
  {
   "cell_type": "code",
   "execution_count": null,
   "metadata": {},
   "outputs": [],
   "source": [
    "key = '6fa7818ced9d4d988af164055240412'\n"
   ]
  },
  {
   "cell_type": "code",
   "execution_count": null,
   "metadata": {},
   "outputs": [],
   "source": [
    "model.predict()\n"
   ]
  },
  {
   "cell_type": "code",
   "execution_count": 13,
   "metadata": {},
   "outputs": [
    {
     "name": "stdout",
     "output_type": "stream",
     "text": [
      "Encoded Crop classes: [20 11  3  9 18 13 14  2 10 19  1 12  7 21 15  0 16 17  4  6  8  5]\n",
      "X_train shape: (1760, 7)\n",
      "y_train shape: (1760,)\n",
      "Best Parameters: {'min_samples_leaf': 4, 'max_depth': 20, 'criterion': 'gini'}\n",
      "Best Score: 0.9806818181818182\n",
      "Model and scaler have been saved successfully.\n"
     ]
    }
   ],
   "source": [
    "import numpy as np \n",
    "import pandas as pd\n",
    "from sklearn.model_selection import train_test_split, RandomizedSearchCV\n",
    "from sklearn.preprocessing import LabelEncoder, StandardScaler\n",
    "from sklearn.tree import DecisionTreeClassifier\n",
    "import pickle\n",
    "\n",
    "# Load dataset\n",
    "df = pd.read_csv('Crop_Recommendation.csv')\n",
    "\n",
    "# Label encoding for the target variable 'Crop'\n",
    "label_encoder = LabelEncoder()\n",
    "df['Crop'] = label_encoder.fit_transform(df['Crop'])\n",
    "\n",
    "# Check unique values of 'Crop' after encoding\n",
    "print(f\"Encoded Crop classes: {df['Crop'].unique()}\")\n",
    "\n",
    "# Split the dataset into features and target variable\n",
    "X = df.drop(['Crop'], axis=1)\n",
    "y = df['Crop']\n",
    "\n",
    "# Split the dataset into training and testing sets\n",
    "X_train, X_test, y_train, y_test = train_test_split(X, y, test_size=0.2, random_state=42)\n",
    "\n",
    "# Print shapes of training and test sets for validation\n",
    "print(f\"X_train shape: {X_train.shape}\")\n",
    "print(f\"y_train shape: {y_train.shape}\")\n",
    "\n",
    "# Standardize the feature set using StandardScaler\n",
    "std_scaler = StandardScaler()\n",
    "X_train_scaled = std_scaler.fit_transform(X_train)\n",
    "X_test_scaled = std_scaler.transform(X_test)\n",
    "\n",
    "# Initialize DecisionTreeClassifier\n",
    "dt = DecisionTreeClassifier(random_state=42)\n",
    "\n",
    "# Define the hyperparameter grid for RandomizedSearchCV\n",
    "params_dist = {\n",
    "    'criterion': ['gini', 'entropy'],\n",
    "    'max_depth': [2 * n for n in range(1, 21)],\n",
    "    'min_samples_leaf': [n for n in range(1, 11)]\n",
    "}\n",
    "\n",
    "# Initialize RandomizedSearchCV\n",
    "random_search = RandomizedSearchCV(estimator=dt, param_distributions=params_dist,\n",
    "                                   cv=5, n_jobs=-1, n_iter=10, scoring='accuracy', random_state=42)\n",
    "\n",
    "# Fit the RandomizedSearchCV to the scaled training data\n",
    "random_search.fit(X_train_scaled, y_train)\n",
    "\n",
    "# Output the best parameters and the best score\n",
    "print(f\"Best Parameters: {random_search.best_params_}\")\n",
    "print(f\"Best Score: {random_search.best_score_}\")\n",
    "\n",
    "# Get the best estimator (model)\n",
    "model = random_search.best_estimator_\n",
    "\n",
    "# Save the trained model to a pickle file\n",
    "with open('crop_recommendation_model.pkl', 'wb') as file:\n",
    "    pickle.dump(model, file)\n",
    "\n",
    "# Save the scaler to be used for future scaling during predictions\n",
    "with open('std_scaler.pkl', 'wb') as file:\n",
    "    pickle.dump(std_scaler, file)\n",
    "\n",
    "print(\"Model and scaler have been saved successfully.\")"
   ]
  },
  {
   "cell_type": "code",
   "execution_count": null,
   "metadata": {},
   "outputs": [
    {
     "data": {
      "text/plain": [
       "0       20\n",
       "1       20\n",
       "2       20\n",
       "3       20\n",
       "4       20\n",
       "        ..\n",
       "2195     5\n",
       "2196     5\n",
       "2197     5\n",
       "2198     5\n",
       "2199     5\n",
       "Name: Crop, Length: 2200, dtype: int64"
      ]
     },
     "execution_count": 14,
     "metadata": {},
     "output_type": "execute_result"
    }
   ],
   "source": []
  }
 ],
 "metadata": {
  "kernelspec": {
   "display_name": "venv",
   "language": "python",
   "name": "python3"
  },
  "language_info": {
   "codemirror_mode": {
    "name": "ipython",
    "version": 3
   },
   "file_extension": ".py",
   "mimetype": "text/x-python",
   "name": "python",
   "nbconvert_exporter": "python",
   "pygments_lexer": "ipython3",
   "version": "3.12.6"
  }
 },
 "nbformat": 4,
 "nbformat_minor": 2
}
